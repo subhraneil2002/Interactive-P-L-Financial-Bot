{
 "cells": [
  {
   "cell_type": "markdown",
   "id": "bd9b16f0-1c19-452e-b5da-f6d94707441c",
   "metadata": {},
   "source": [
    "# Retrieval-Augmented Generation (RAG) Model for QA Bot on P&L Data (Part - 1)"
   ]
  },
  {
   "cell_type": "markdown",
   "id": "f12a28dc-899c-4cb5-88b0-fa7ffe5432ab",
   "metadata": {},
   "source": [
    "## Importing the necessary libraries"
   ]
  },
  {
   "cell_type": "code",
   "execution_count": 1,
   "id": "462ee929-e02f-442e-b667-841653bed004",
   "metadata": {},
   "outputs": [],
   "source": [
    "import pdfplumber\n",
    "import pandas as pd\n",
    "import torch\n",
    "from sentence_transformers import SentenceTransformer, CrossEncoder\n",
    "from pinecone import Pinecone, ServerlessSpec\n",
    "import cohere"
   ]
  },
  {
   "cell_type": "markdown",
   "id": "0cbe266b-aace-4520-a6d2-7959403c78d7",
   "metadata": {},
   "source": [
    "## Extracting Profit and Loss Data"
   ]
  },
  {
   "cell_type": "code",
   "execution_count": 2,
   "id": "1ea1d34c-8297-45e2-82fb-11f6b87cb5b8",
   "metadata": {},
   "outputs": [],
   "source": [
    "# Load Embedding and Re-ranking Models\n",
    "embedding_model = SentenceTransformer(\"sentence-transformers/all-MiniLM-L6-v2\")\n",
    "reranker = CrossEncoder(\"cross-encoder/ms-marco-MiniLM-L-6-v2\")\n",
    "\n",
    "# Initialize Cohere API\n",
    "cohere_api_key = \"LC3f55pXtlMb5DAi4pW9PM57HxhfhMX0H89Sg6Xr\"  # Replace with your Cohere API key\n",
    "cohere_client = cohere.Client(cohere_api_key)\n",
    "\n",
    "def extract_pnl_data(pdf_path):\n",
    "    \"\"\"Extracts P&L data from a PDF file (supports both tables and text parsing).\"\"\"\n",
    "    data = []\n",
    "    with pdfplumber.open(pdf_path) as pdf:\n",
    "        for page in pdf.pages:\n",
    "            # Try extracting tables first\n",
    "            tables = page.extract_tables()\n",
    "            for table in tables:\n",
    "                for row in table:\n",
    "                    if len(row) >= 2 and row[0] and row[-1]:\n",
    "                        try:\n",
    "                            description = row[0].strip()\n",
    "                            value = float(row[-1].replace(',', '').replace('$', ''))\n",
    "                            data.append((description, value))\n",
    "                        except ValueError:\n",
    "                            continue\n",
    "            # If no tables found, fallback to text extraction\n",
    "            text = page.extract_text()\n",
    "            if text:\n",
    "                for line in text.split(\"\\n\"):\n",
    "                    parts = line.split()\n",
    "                    if len(parts) >= 2:\n",
    "                        try:\n",
    "                            description = \" \".join(parts[:-1])\n",
    "                            value = float(parts[-1].replace(\",\", \"\"))\n",
    "                            data.append((description, value))\n",
    "                        except ValueError:\n",
    "                            continue\n",
    "    return pd.DataFrame(data, columns=[\"Description\", \"Value\"])\n",
    "\n",
    "# Load financial data\n",
    "pdf_path = r\"C:\\Users\\thegu\\Downloads\\Sample Financial Statement.pdf\"  # Update with actual file path\n",
    "financial_data_df = extract_pnl_data(pdf_path)"
   ]
  },
  {
   "cell_type": "markdown",
   "id": "a9333e6c-5092-4b34-9e26-405e02832046",
   "metadata": {},
   "source": [
    "## Storing the embeddings"
   ]
  },
  {
   "cell_type": "code",
   "execution_count": 3,
   "id": "3f27187b-fdec-4cab-b026-1b2e6746516f",
   "metadata": {},
   "outputs": [],
   "source": [
    "# Initialize Pinecone\n",
    "pinecone_api_key = \"pcsk_r5BQ5_8441hr1oD14nMzUKaLyhHxCLeotbVuNq1AwUhEWSGvkESctK3CrZ38LoEjW9CuZ\"\n",
    "pinecone_instance = Pinecone(api_key=pinecone_api_key)\n",
    "index_name = \"financial-qa\"\n",
    "\n",
    "# Create the index if it doesn't exist\n",
    "if index_name not in pinecone_instance.list_indexes().names():\n",
    "    pinecone_instance.create_index(\n",
    "        name=index_name,\n",
    "        dimension=384,  # all-MiniLM-L6-v2 generates 384-d embeddings\n",
    "        metric=\"cosine\",\n",
    "        spec=ServerlessSpec(cloud=\"aws\", region=\"us-east-1\")\n",
    "    )\n",
    "index = pinecone_instance.Index(index_name)\n",
    "\n",
    "# Generate embeddings and store in Pinecone\n",
    "def store_embeddings(df):\n",
    "    vectors = []\n",
    "    for idx, row in df.iterrows():\n",
    "        vector = embedding_model.encode(row[\"Description\"]).tolist()\n",
    "        metadata = {\"description\": row[\"Description\"], \"value\": row[\"Value\"]}\n",
    "        vectors.append((f\"entry_{idx}\", vector, metadata))\n",
    "    index.upsert(vectors)\n",
    "\n",
    "store_embeddings(financial_data_df)"
   ]
  },
  {
   "cell_type": "markdown",
   "id": "df32bc1f-8b1d-4d35-bf05-409d5bbc2c29",
   "metadata": {},
   "source": [
    "## Retrieving relevant parts of the data using ranking"
   ]
  },
  {
   "cell_type": "code",
   "execution_count": 4,
   "id": "1c69027d-0eb8-47c2-8218-8cad0a7f5db2",
   "metadata": {},
   "outputs": [],
   "source": [
    "def query_financial_data(query, top_k=5):\n",
    "    query_vector = embedding_model.encode(query).tolist()\n",
    "    results = index.query(vector=query_vector, top_k=top_k, include_metadata=True)\n",
    "    \n",
    "    # Re-rank results\n",
    "    descriptions = [match.metadata[\"description\"] for match in results.matches]\n",
    "    rerank_scores = reranker.predict([(query, desc) for desc in descriptions])\n",
    "    ranked_results = sorted(zip(results.matches, rerank_scores), key=lambda x: x[1], reverse=True)\n",
    "    \n",
    "    context = \"\\n\".join([f\"{match.metadata['description']}: {match.metadata['value']}\" for match, _ in ranked_results])\n",
    "    return generate_response(query, context)"
   ]
  },
  {
   "cell_type": "markdown",
   "id": "b3a2c6d4-c6cb-4887-9cb0-8e199fd23294",
   "metadata": {},
   "source": [
    "## Generate Natural Language Response with the help of Cohere-API"
   ]
  },
  {
   "cell_type": "code",
   "execution_count": 9,
   "id": "dd4eafa3-7b9f-4423-b291-70ae331f7e55",
   "metadata": {},
   "outputs": [],
   "source": [
    "def generate_response(query, context):\n",
    "    \"\"\"Generates a response using Cohere with retrieved context.\"\"\"\n",
    "    prompt = f\"\"\"You are a financial analyst. Answer based on the given data.\n",
    "    Provide all monetary values in Indian Rupees (₹).\n",
    "    \n",
    "    Context:\n",
    "    {context}\n",
    "    \n",
    "    Question: {query}\n",
    "    Answer (in ₹):\"\"\"\n",
    "    \n",
    "    # Send the prompt to Cohere's model for generation\n",
    "    response = cohere_client.generate(\n",
    "        model=\"command\",  # You can specify other models as needed\n",
    "        prompt=prompt,\n",
    "        max_tokens=200,\n",
    "        temperature=0.7\n",
    "    )\n",
    "    return response.generations[0].text.strip()"
   ]
  },
  {
   "cell_type": "markdown",
   "id": "71553401-8de7-4878-ad46-a2c00902a42a",
   "metadata": {},
   "source": [
    "## Example Queries with Output"
   ]
  },
  {
   "cell_type": "code",
   "execution_count": 10,
   "id": "dd1a257c-38e0-4584-89f4-a7b7bc650d7e",
   "metadata": {},
   "outputs": [
    {
     "name": "stdout",
     "output_type": "stream",
     "text": [
      "\n",
      "Query: What is the gross profit for Q3 2024?\n",
      "Response: The gross profit from the provided data for Q3 2024 is 46,257₹.\n",
      "\n",
      "Query: How do the net income and operating expenses compare for Q1 2024?\n",
      "Response: Based on the provided information, the net income for the first quarter of 2024 appears to be higher than the operating expenses, however, the exact numerical values are not specified. \n",
      "\n",
      "The line-by-line breakdown of the net income is given as: \n",
      "1. Segment operating income: ₹8784.0\n",
      "2. Other income, net: ₹4711.0\n",
      "3. Other income, net: ₹2729.0\n",
      "\n",
      "Whereas the operating expenses are divided into two parts with values given as: \n",
      "1. Total operating expenses: ₹13509.0\n",
      "2. Income tax expense: ₹9214.0\n",
      "\n",
      "To provide a exact answer, I would need the numerical values of the Q1 2024 operating expenses in order to do the comparison.\n",
      "\n",
      "Query: What is the total revenue?\n",
      "Response: The total revenue from the given information is Rs. 379016.0. \n",
      "\n",
      "To calculate this, you can sum the revenue from the software services and the total revenue from the operations:\n",
      "\n",
      "Rs. (36064 + 35199) ₹ + ₹ (37923 + 37441 + 153670 + 146767) = ₹ 379016.0\n",
      "\n",
      "This provides the total revenue with the given data points, rounded to the nearest rupee. \n",
      "\n",
      "Please let me know if you would like to calculate any other values from the information provided.\n"
     ]
    }
   ],
   "source": [
    "# Example Queries\n",
    "queries = [\n",
    "    \"What is the gross profit for Q3 2024?\",\n",
    "    \"How do the net income and operating expenses compare for Q1 2024?\",\n",
    "    \"What is the total revenue?\"\n",
    "]\n",
    "\n",
    "for query in queries:\n",
    "    print(f\"\\nQuery: {query}\")\n",
    "    print(\"Response:\", query_financial_data(query))"
   ]
  },
  {
   "cell_type": "code",
   "execution_count": null,
   "id": "ff303c14-c72e-499a-a218-a7b3f04e6f0e",
   "metadata": {},
   "outputs": [],
   "source": []
  }
 ],
 "metadata": {
  "kernelspec": {
   "display_name": "Python 3 (ipykernel)",
   "language": "python",
   "name": "python3"
  },
  "language_info": {
   "codemirror_mode": {
    "name": "ipython",
    "version": 3
   },
   "file_extension": ".py",
   "mimetype": "text/x-python",
   "name": "python",
   "nbconvert_exporter": "python",
   "pygments_lexer": "ipython3",
   "version": "3.12.7"
  }
 },
 "nbformat": 4,
 "nbformat_minor": 5
}
